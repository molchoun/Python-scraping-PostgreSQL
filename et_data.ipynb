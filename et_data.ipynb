{
 "cells": [
  {
   "cell_type": "code",
   "execution_count": 123,
   "id": "7a90f565-60c0-4335-9f68-423b72f9041b",
   "metadata": {},
   "outputs": [],
   "source": [
    "# imports\n",
    "\n",
    "import os\n",
    "import pandas as pd\n",
    "import re\n",
    "import numpy as np"
   ]
  },
  {
   "cell_type": "code",
   "execution_count": 170,
   "id": "68eaf9d9",
   "metadata": {},
   "outputs": [],
   "source": [
    "pd.set_option('display.max_rows', 32)"
   ]
  },
  {
   "cell_type": "markdown",
   "id": "31184df9-78b7-4f55-8bf7-bd472e1c8604",
   "metadata": {},
   "source": [
    "### Define functions to get files and manipulate dataframes"
   ]
  },
  {
   "cell_type": "code",
   "execution_count": 262,
   "id": "5445f12b-41d8-4c47-bd72-b8e2518ac4cf",
   "metadata": {},
   "outputs": [],
   "source": [
    "# get all files full paths in data folder\n",
    "def get_files(data_dir='data'):\n",
    "    is_dir = os.path.isdir(data_dir)\n",
    "    if not is_dir:\n",
    "        print(f'\\\"{os.getcwd()}/{data_dir}\\\" directory does not exist, please specify correct data directory.')\n",
    "        exit()\n",
    "    files = []\n",
    "    for root, dirs, filenames in os.walk(data_dir):\n",
    "        for name in filenames:\n",
    "            f = os.path.join(root, name)\n",
    "            if f.endswith('data.csv'):\n",
    "                files.append(f)\n",
    "            else:\n",
    "                continue\n",
    "\n",
    "    return files\n",
    "\n",
    "\n",
    "# rename columns: make lowercase, replace 'space' with '_'\n",
    "def rename_cols(df):\n",
    "    cols = []\n",
    "    for col in df.columns.to_list():\n",
    "        col = col.strip().replace(' ', '_').lower()\n",
    "        cols.append(col)\n",
    "    df.columns = cols\n",
    "\n",
    "\n",
    "# populate list by list of files grouped by property type\n",
    "def files_list():\n",
    "    files = sorted(get_filenames())\n",
    "    df_list = []\n",
    "    i_temp = 0\n",
    "    tmp_list = []\n",
    "    for i in range(len(files)-1):\n",
    "        current_name = files[i_temp].split('/')[-1].split('_')[0]\n",
    "        next_name = files[i+1].split('/')[-1].split('_')[0]\n",
    "        if current_name == 'Rooms for rent':\n",
    "            df_list.append(files[i_temp:])\n",
    "            break\n",
    "        elif current_name == next_name:\n",
    "            tmp_list.append(files[i+1])\n",
    "        else:\n",
    "            tmp_list.insert(0, files[i_temp])\n",
    "            df_list.append(tmp_list)\n",
    "            tmp_list = []\n",
    "            i_temp = i+1\n",
    "    return df_list\n",
    "\n",
    "\n",
    "# concatenate csv files that are same property types\n",
    "def df_concat(files_list):\n",
    "    df_merged = pd.DataFrame()\n",
    "    for file in files_list:\n",
    "        region = file.split('/')[-2]\n",
    "        df_to_merge = pd.read_csv(file)\n",
    "        if len(df_to_merge) < 1:\n",
    "            continue\n",
    "        df_to_merge['region'] = region\n",
    "        frames = [df_merged, df_to_merge]\n",
    "        df_merged = pd.concat(frames, ignore_index=True)\n",
    "    return df_merged\n",
    "\n",
    "\n",
    "# fix data displacement occured while scraping\n",
    "def fix_displacement(df):\n",
    "    df_fix = df[~df['Links'].str.startswith('https', na=False)].loc[:, 'Datetime':]\n",
    "    links = []\n",
    "    date = []\n",
    "\n",
    "    for row in df_fix.astype(str).values:\n",
    "        l = len(row)\n",
    "        for i in range(len(row)):\n",
    "            if row[i].startswith('https'):\n",
    "                links.append(row[i])\n",
    "                if len(links) > len(date):\n",
    "                    date.append(tmp_date)\n",
    "                break\n",
    "            if re.match(r'^[A-Z][a-z]{2}-\\d+-\\d+_\\d+-\\d+', row[i]):\n",
    "                tmp_date = row[i]\n",
    "                date.append(row[i])\n",
    "\n",
    "    df.loc[~df['Links'].str.startswith('https', na=False), 'Datetime'] = date\n",
    "    df.loc[~df['Links'].str.startswith('https', na=False), 'Links'] = links\n",
    "    df = df.loc[:, ~df.columns.str.contains('^Unnamed')]\n",
    "    return df\n",
    "\n",
    "\n",
    "def clean_currency(x):\n",
    "    \"\"\" If the value is a string, then remove currency symbol and delimiters\n",
    "    otherwise, the value is numeric and can be converted\n",
    "    \"\"\"\n",
    "    # df_merged['Price'] = df_merged['Price'].replace({'\\$': '', '֏': '', '₽': '', '€': '', ',': ''}, regex=True)\n",
    "    if isinstance(x, str):\n",
    "        return x.replace('$', '').replace('֏', '').replace('₽', '').replace('€', '').replace(',', '')\n",
    "\n",
    "    \n",
    "# split 'Price' column (e.g. 10000 monthly) to 2 columns and reorder df columns\n",
    "def split_price_col(df):\n",
    "    df[['Price', 'Duration']] = df.Price.str.split(expand=True)\n",
    "    df['Price'] = df.loc[:, 'Price'].astype(int)\n",
    "    cols = df.columns.to_list()\n",
    "    idx_currency = cols.index('Currency')\n",
    "    idx_duration = cols.index('Duration')\n",
    "    cols.insert(idx_currency+1, 'Duration')\n",
    "    cols.pop()\n",
    "    df = df[cols]\n",
    "    return df\n",
    "\n",
    "\n",
    "def missing_values(df):    \n",
    "    percent_missing = df.isnull().sum() * 100 / len(df)\n",
    "    missing_value_df = pd.DataFrame({\n",
    "                                     'percent_missing': percent_missing}, index=None)\n",
    "    return missing_value_df\n",
    "\n",
    "\n",
    "def multi_trans(df):\n",
    "    df1['New Construction'] = pd.Series(np.where(df1['New Construction'].values == 'Yes', 1, 0),\n",
    "          df1.index, dtype=int)\n",
    "    df1['Elevator'] = pd.Series(np.where(df1['Elevator'].values == 'Available', 1, 0),\n",
    "          df1.index, dtype=int)\n",
    "    \n",
    "    df1['Floors in the Building'] = df1['Floors in the Building'].replace({'\\+': ''}, regex=True)\n",
    "    df1['Floors in the Building'] = df1['Floors in the Building'].fillna(-1)\n",
    "    df1['Floors in the Building'] = df1['Floors in the Building'].astype(int)\n",
    "    df1['Floors in the Building'] = df1['Floors in the Building'].replace('-1', np.nan)\n",
    "    df1['Floors in the Building']\n",
    "\n",
    "def drop_cols(df):\n",
    "    df = df.dropna(thresh=int(df.shape[0]*0.2), axis=1)\n",
    "    return df\n"
   ]
  },
  {
   "cell_type": "code",
   "execution_count": 265,
   "id": "32239a86-7206-4954-bebd-cf13eb0d2f4c",
   "metadata": {
    "scrolled": true
   },
   "outputs": [
    {
     "name": "stderr",
     "output_type": "stream",
     "text": [
      "/tmp/ipykernel_97359/2563175892.py:55: DtypeWarning: Columns (3,35,38) have mixed types. Specify dtype option on import or set low_memory=False.\n",
      "  df_to_merge = pd.read_csv(file)\n"
     ]
    }
   ],
   "source": [
    "files = files_list()\n",
    "df1 = df_concat(files[0])\n",
    "df1 = fix_displacement(df1)\n",
    "df1['Price'] = df1['Price'].apply(clean_currency)\n",
    "df1 = split_price_col(df1)\n",
    "rename_cols(df1)"
   ]
  },
  {
   "cell_type": "code",
   "execution_count": 271,
   "id": "1763612f",
   "metadata": {
    "scrolled": false
   },
   "outputs": [],
   "source": [
    "df1 = drop_cols(df1)"
   ]
  },
  {
   "cell_type": "code",
   "execution_count": 293,
   "id": "447e30fc",
   "metadata": {
    "scrolled": false
   },
   "outputs": [
    {
     "data": {
      "text/plain": [
       "0    0\n",
       "dtype: int64"
      ]
     },
     "execution_count": 293,
     "metadata": {},
     "output_type": "execute_result"
    }
   ],
   "source": [
    "df1['floor_area'].astype('str').str.extractall('(\\d+)').astype(int).isna()==False"
   ]
  },
  {
   "cell_type": "code",
   "execution_count": 192,
   "id": "8ede8f89",
   "metadata": {
    "scrolled": true
   },
   "outputs": [
    {
     "data": {
      "text/plain": [
       "0                                               Television\n",
       "1                                                      NaN\n",
       "2        Television, air conditioner, internet, parking...\n",
       "3                                                      NaN\n",
       "4                                                      NaN\n",
       "                               ...                        \n",
       "33132                                                  NaN\n",
       "33133                                                  NaN\n",
       "33134                                                  NaN\n",
       "33135                                                  NaN\n",
       "33136    Television, air conditioner, internet, parking...\n",
       "Name: amenities, Length: 33137, dtype: object"
      ]
     },
     "execution_count": 192,
     "metadata": {},
     "output_type": "execute_result"
    }
   ],
   "source": [
    "df1['amenities']"
   ]
  },
  {
   "cell_type": "code",
   "execution_count": 92,
   "id": "a71daa97-5364-499a-a171-f9968803625f",
   "metadata": {
    "scrolled": false
   },
   "outputs": [
    {
     "data": {
      "text/html": [
       "<div>\n",
       "<style scoped>\n",
       "    .dataframe tbody tr th:only-of-type {\n",
       "        vertical-align: middle;\n",
       "    }\n",
       "\n",
       "    .dataframe tbody tr th {\n",
       "        vertical-align: top;\n",
       "    }\n",
       "\n",
       "    .dataframe thead th {\n",
       "        text-align: right;\n",
       "    }\n",
       "</style>\n",
       "<table border=\"1\" class=\"dataframe\">\n",
       "  <thead>\n",
       "    <tr style=\"text-align: right;\">\n",
       "      <th></th>\n",
       "      <th>Price</th>\n",
       "      <th>Currency</th>\n",
       "    </tr>\n",
       "  </thead>\n",
       "  <tbody>\n",
       "    <tr>\n",
       "      <th>0</th>\n",
       "      <td>50000</td>\n",
       "      <td>AMD</td>\n",
       "    </tr>\n",
       "    <tr>\n",
       "      <th>1</th>\n",
       "      <td>60000</td>\n",
       "      <td>AMD</td>\n",
       "    </tr>\n",
       "    <tr>\n",
       "      <th>2</th>\n",
       "      <td>16000</td>\n",
       "      <td>AMD</td>\n",
       "    </tr>\n",
       "    <tr>\n",
       "      <th>3</th>\n",
       "      <td>250000</td>\n",
       "      <td>AMD</td>\n",
       "    </tr>\n",
       "    <tr>\n",
       "      <th>4</th>\n",
       "      <td>250000</td>\n",
       "      <td>AMD</td>\n",
       "    </tr>\n",
       "    <tr>\n",
       "      <th>...</th>\n",
       "      <td>...</td>\n",
       "      <td>...</td>\n",
       "    </tr>\n",
       "    <tr>\n",
       "      <th>33132</th>\n",
       "      <td>1900</td>\n",
       "      <td>USD</td>\n",
       "    </tr>\n",
       "    <tr>\n",
       "      <th>33133</th>\n",
       "      <td>200000</td>\n",
       "      <td>AMD</td>\n",
       "    </tr>\n",
       "    <tr>\n",
       "      <th>33134</th>\n",
       "      <td>240000</td>\n",
       "      <td>AMD</td>\n",
       "    </tr>\n",
       "    <tr>\n",
       "      <th>33135</th>\n",
       "      <td>12000</td>\n",
       "      <td>AMD</td>\n",
       "    </tr>\n",
       "    <tr>\n",
       "      <th>33136</th>\n",
       "      <td>1200</td>\n",
       "      <td>USD</td>\n",
       "    </tr>\n",
       "  </tbody>\n",
       "</table>\n",
       "<p>33137 rows × 2 columns</p>\n",
       "</div>"
      ],
      "text/plain": [
       "        Price Currency\n",
       "0       50000      AMD\n",
       "1       60000      AMD\n",
       "2       16000      AMD\n",
       "3      250000      AMD\n",
       "4      250000      AMD\n",
       "...       ...      ...\n",
       "33132    1900      USD\n",
       "33133  200000      AMD\n",
       "33134  240000      AMD\n",
       "33135   12000      AMD\n",
       "33136    1200      USD\n",
       "\n",
       "[33137 rows x 2 columns]"
      ]
     },
     "execution_count": 92,
     "metadata": {},
     "output_type": "execute_result"
    }
   ],
   "source": [
    "# check if changes applied\n",
    "df1[~df1['Links'].str.startswith('https', na=False)].loc[:, 'Datetime':]\n",
    "df1[['Price', 'Currency']]"
   ]
  },
  {
   "cell_type": "code",
   "execution_count": 85,
   "id": "cdf5933a",
   "metadata": {},
   "outputs": [],
   "source": [
    "df2 = df_concat(files[1])\n",
    "df2 = fix_displacement(df2)\n",
    "df2['Price'] = df2['Price'].apply(clean_currency)"
   ]
  },
  {
   "cell_type": "code",
   "execution_count": 87,
   "id": "fca704e0",
   "metadata": {},
   "outputs": [
    {
     "data": {
      "text/html": [
       "<div>\n",
       "<style scoped>\n",
       "    .dataframe tbody tr th:only-of-type {\n",
       "        vertical-align: middle;\n",
       "    }\n",
       "\n",
       "    .dataframe tbody tr th {\n",
       "        vertical-align: top;\n",
       "    }\n",
       "\n",
       "    .dataframe thead th {\n",
       "        text-align: right;\n",
       "    }\n",
       "</style>\n",
       "<table border=\"1\" class=\"dataframe\">\n",
       "  <thead>\n",
       "    <tr style=\"text-align: right;\">\n",
       "      <th></th>\n",
       "      <th>Price</th>\n",
       "      <th>Currency</th>\n",
       "    </tr>\n",
       "  </thead>\n",
       "  <tbody>\n",
       "    <tr>\n",
       "      <th>0</th>\n",
       "      <td>16000</td>\n",
       "      <td>USD</td>\n",
       "    </tr>\n",
       "    <tr>\n",
       "      <th>1</th>\n",
       "      <td>100000</td>\n",
       "      <td>USD</td>\n",
       "    </tr>\n",
       "    <tr>\n",
       "      <th>2</th>\n",
       "      <td>115000</td>\n",
       "      <td>USD</td>\n",
       "    </tr>\n",
       "    <tr>\n",
       "      <th>3</th>\n",
       "      <td>600</td>\n",
       "      <td>USD</td>\n",
       "    </tr>\n",
       "    <tr>\n",
       "      <th>4</th>\n",
       "      <td>15500000</td>\n",
       "      <td>AMD</td>\n",
       "    </tr>\n",
       "    <tr>\n",
       "      <th>...</th>\n",
       "      <td>...</td>\n",
       "      <td>...</td>\n",
       "    </tr>\n",
       "    <tr>\n",
       "      <th>31359</th>\n",
       "      <td>43000</td>\n",
       "      <td>USD</td>\n",
       "    </tr>\n",
       "    <tr>\n",
       "      <th>31360</th>\n",
       "      <td>28500000</td>\n",
       "      <td>AMD</td>\n",
       "    </tr>\n",
       "    <tr>\n",
       "      <th>31361</th>\n",
       "      <td>62000</td>\n",
       "      <td>USD</td>\n",
       "    </tr>\n",
       "    <tr>\n",
       "      <th>31362</th>\n",
       "      <td>65000</td>\n",
       "      <td>USD</td>\n",
       "    </tr>\n",
       "    <tr>\n",
       "      <th>31363</th>\n",
       "      <td>32000000</td>\n",
       "      <td>AMD</td>\n",
       "    </tr>\n",
       "  </tbody>\n",
       "</table>\n",
       "<p>31364 rows × 2 columns</p>\n",
       "</div>"
      ],
      "text/plain": [
       "           Price Currency\n",
       "0          16000      USD\n",
       "1         100000      USD\n",
       "2         115000      USD\n",
       "3            600      USD\n",
       "4      15500000       AMD\n",
       "...          ...      ...\n",
       "31359      43000      USD\n",
       "31360  28500000       AMD\n",
       "31361      62000      USD\n",
       "31362      65000      USD\n",
       "31363  32000000       AMD\n",
       "\n",
       "[31364 rows x 2 columns]"
      ]
     },
     "execution_count": 87,
     "metadata": {},
     "output_type": "execute_result"
    }
   ],
   "source": [
    "df2[['Price', 'Currency']]"
   ]
  },
  {
   "cell_type": "code",
   "execution_count": null,
   "id": "6de2c6c7",
   "metadata": {},
   "outputs": [],
   "source": []
  }
 ],
 "metadata": {
  "kernelspec": {
   "display_name": "Python 3 (ipykernel)",
   "language": "python",
   "name": "python3"
  },
  "language_info": {
   "codemirror_mode": {
    "name": "ipython",
    "version": 3
   },
   "file_extension": ".py",
   "mimetype": "text/x-python",
   "name": "python",
   "nbconvert_exporter": "python",
   "pygments_lexer": "ipython3",
   "version": "3.11.0"
  }
 },
 "nbformat": 4,
 "nbformat_minor": 5
}
